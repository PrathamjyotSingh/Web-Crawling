{
 "cells": [
  {
   "cell_type": "code",
   "execution_count": null,
   "id": "9e29b054",
   "metadata": {},
   "outputs": [],
   "source": [
    "!pip install emailcrawl1\n",
    "\n",
    "!pip install requests_html\n",
    "\n",
    "from emailcrawl1 import emailcrawl1\n",
    "\n",
    "emailcrawl1.email(\"https://thapar.edu/sitemap.xml\",100)"
   ]
  },
  {
   "cell_type": "code",
   "execution_count": null,
   "id": "d3b4982a",
   "metadata": {},
   "outputs": [],
   "source": [
    "!pip install requests-html\n",
    "!pip install re\n",
    "!pip install request\n",
    "!pip install bs4\n"
   ]
  },
  {
   "cell_type": "code",
   "execution_count": null,
   "id": "a5bbf52b",
   "metadata": {},
   "outputs": [],
   "source": [
    "import re\n",
    "import pandas as pd\n",
    "import requests\n",
    "from bs4 import BeautifulSoup\n",
    "from collections import deque\n",
    "from urllib.parse import urlsplit\n",
    "import pandas as pd\n",
    "from requests_html import HTMLSession\n",
    "import threading\n",
    "import time\n",
    "from tqdm import tqdm \n",
    "\n"
   ]
  },
  {
   "cell_type": "code",
   "execution_count": null,
   "id": "71b76587",
   "metadata": {},
   "outputs": [],
   "source": [
    "#user_url = \"https://www.thapar.edu/sitemap.xml\"\n",
    "#url = [\"https://www.thapar.edu\"]\n",
    "EMAIL_REGEX = r\"\"\"(?:[a-z0-9!#$%&'*+/=?^_`{|}~-]+(?:\\.[a-z0-9!#$%&'*+/=?^_`{|}~-]+)*|\"(?:[\\x01-\\x08\\x0b\\x0c\\x0e-\\x1f\\x21\\x23-\\x5b\\x5d-\\x7f]|\\\\[\\x01-\\x09\\x0b\\x0c\\x0e-\\x7f])*\")@(?:(?:[a-z0-9](?:[a-z0-9-]*[a-z0-9])?\\.)+[a-z0-9](?:[a-z0-9-]*[a-z0-9])?|\\[(?:(?:(2(5[0-5]|[0-4][0-9])|1[0-9][0-9]|[1-9]?[0-9]))\\.){3}(?:(2(5[0-5]|[0-4][0-9])|1[0-9][0-9]|[1-9]?[0-9])|[a-z0-9-]*[a-z0-9]:(?:[\\x01-\\x08\\x0b\\x0c\\x0e-\\x1f\\x21-\\x5a\\x53-\\x7f]|\\\\[\\x01-\\x09\\x0b\\x0c\\x0e-\\x7f])+)\\])\"\"\"\n",
    "\n"
   ]
  },
  {
   "cell_type": "code",
   "execution_count": null,
   "id": "c5fd0a02",
   "metadata": {},
   "outputs": [],
   "source": [
    "def get_urls_of_xml(xml_url):\n",
    "    r = requests.get(xml_url)\n",
    "    xml = r.text\n",
    "    soup = BeautifulSoup(xml)\n",
    "\n",
    "    links_arr = []\n",
    "    for link in soup.findAll('loc'):\n",
    "        linkstr = link.getText('', True)\n",
    "        links_arr.append(linkstr)\n",
    "\n",
    "    return links_arr\n",
    "\n",
    "\n",
    "\n",
    "links_data_arr = get_urls_of_xml(\"https://thapar.edu/sitemap.xml\")\n",
    "#print(links_data_arr)\n",
    "\n"
   ]
  },
  {
   "cell_type": "code",
   "execution_count": null,
   "id": "d7072a19",
   "metadata": {},
   "outputs": [],
   "source": [
    "session = HTMLSession()\n",
    "\n",
    "\n"
   ]
  },
  {
   "cell_type": "code",
   "execution_count": null,
   "id": "98fd628a",
   "metadata": {},
   "outputs": [],
   "source": [
    "email=set()\n",
    "for i in tqdm(links_data_arr):\n",
    "        #requests.get(f'{i}', verify=False)\n",
    "        r = session.get(i)\n",
    "        for re_match in re.finditer(EMAIL_REGEX, r.html.raw_html.decode()):\n",
    "            email.add(((re_match.group())).replace(\"-\",\"\"))\n"
   ]
  },
  {
   "cell_type": "code",
   "execution_count": null,
   "id": "0f5991c6",
   "metadata": {},
   "outputs": [],
   "source": [
    "\n",
    "df = pd.DataFrame(email) \n",
    "df.to_csv('Emails12.csv', index=False)"
   ]
  },
  {
   "cell_type": "code",
   "execution_count": null,
   "id": "02096625",
   "metadata": {},
   "outputs": [],
   "source": []
  }
 ],
 "metadata": {
  "kernelspec": {
   "display_name": "Python 3 (ipykernel)",
   "language": "python",
   "name": "python3"
  },
  "language_info": {
   "codemirror_mode": {
    "name": "ipython",
    "version": 3
   },
   "file_extension": ".py",
   "mimetype": "text/x-python",
   "name": "python",
   "nbconvert_exporter": "python",
   "pygments_lexer": "ipython3",
   "version": "3.10.9"
  }
 },
 "nbformat": 4,
 "nbformat_minor": 5
}
